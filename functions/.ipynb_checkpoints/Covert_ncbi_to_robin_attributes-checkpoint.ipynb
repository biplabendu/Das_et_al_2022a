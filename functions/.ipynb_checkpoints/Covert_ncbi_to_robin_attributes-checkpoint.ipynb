{
 "cells": [
  {
   "cell_type": "markdown",
   "metadata": {},
   "source": [
    "## Covert NCBI gene Id to Robin's gene ID\n",
    "### You feed this script with a list of NCBI gene ID's that you want to convert to Robin's gene ID's\n",
    "\n",
    "Primairly this script is used to convert the NCBI genes ID that were found rythmic during RNA-seg time course data in Ophiocordyceps and Beauveria bassiana. The rythmicity of the genes can be 8h, 12h or 24h. We identified gene clusters with peaking expression at diffent times of the day (i.e. night, day dusk dawn). These gene ID have been same to a file and thos script is used to convert it into python. Therefore the file name is specified and dynamic for day/night and species."
   ]
  },
  {
   "cell_type": "code",
   "execution_count": 3,
   "metadata": {},
   "outputs": [],
   "source": [
    "## For this script pandas is needed\n",
    "# import modules\n",
    "import pandas as pd\n",
    "\n",
    "# Also specify the path\n",
    "path = \"/Users/roos_brouns/Dropbox/Ant-fungus/02_scripts/Git_Das_folder2/Das_et_al_2022a\""
   ]
  },
  {
   "cell_type": "code",
   "execution_count": 76,
   "metadata": {},
   "outputs": [
    {
     "name": "stdout",
     "output_type": "stream",
     "text": [
      "1104\n"
     ]
    }
   ],
   "source": [
    "### This code is written to convert the NCBI genes ID that are identified as night, day or dusk peaking, by hierachical clustering and eye balling from heatmaps. \n",
    "## The rhythmic genes with similar expression were clustered together. The number of cluster were predefined and choosen to optimize clustering of day, night and dusk peaking clusters.\n",
    "\n",
    "# Read the data in \n",
    "#\n",
    "# specify the species\n",
    "species = 'beau'\n",
    "#\n",
    "# specify rythmicity of genes\n",
    "rhytmicity = '24'\n",
    "#\n",
    "# specify peaking of cluster for file name\n",
    "peaking = ['night']\n",
    "\n",
    "for peak in peaking:\n",
    "    # specify file you want to convert\n",
    "    file_name = f\"../results/peaking_clusters/{peak}_peaking_Ncbi_IDs_{species}_{rhytmicity}h.txt\"\n",
    "\n",
    "    # read to csv were the gene ID's are listed\n",
    "    all_gene_IDs = pd.read_csv(f\"../data/input/{species}/{species}_gene_names_robin_ncbi.csv\")\n",
    "    # read the list with your NCBI gene ID's \n",
    "    ncbi_list = pd.read_csv(file_name, header = None)\n",
    "    ncbi_list.rename(columns={0: 'gene_ID_ncbi'}, inplace=True)\n",
    "\n",
    "    # Find matching ncbi attributes in DB with given list\n",
    "    matched_attributes = pd.merge(ncbi_list, all_gene_IDs, how='inner', on='gene_ID_ncbi')\n",
    "    # Get the Robin attributes of matched ID's\n",
    "    robin_list = matched_attributes['gene_ID_robin'].to_list()\n",
    "    print(len(robin_list))\n",
    "\n",
    "    # Wrire the list with Robin's attributes to a file\n",
    "    with open(f'../results/peaking_clusters/{peak}_peaking_Robin_IDs_{species}_{rhytmicity}h.txt', 'w') as f:\n",
    "        for item in robin_list:\n",
    "            f.write(\"%s\\n\" % item)\n",
    "\n"
   ]
  },
  {
   "cell_type": "code",
   "execution_count": 26,
   "metadata": {},
   "outputs": [],
   "source": [
    "#### This code is written to convert the NCBI gene IDs that have bee identified as modules by network analysis. These genes have been clustered based on the similarity in gene expression. \n",
    "## Some of these clusters have a significant overlap with genes that are identified as rhytmic. The gene ID in these module will be convert, because we want to do enrichtment on these specific clusters.\n",
    "\n",
    "# specifiy the species\n",
    "species = 'ophio_cflo'\n",
    "#\n",
    "## 1. Read in the data \n",
    "#\n",
    "# Read in the csv file with all the gene ID's and their assigend module by network analysis)\n",
    "all_modules = pd.read_csv(f\"{path}/results/networks/{species}_genes_and_module_identity.csv\")\n",
    "# Read in the gene ID's\n",
    "all_gene_IDs = pd.read_csv(f\"{path}/data/input/{species}/{species}_gene_names_robin_ncbi.csv\")\n",
    "\n",
    "## 2. Add Robin ID \n",
    "#\n",
    "# Join dataframes on all_modules\n",
    "complete_cvs = all_modules.merge(all_gene_IDs, on='gene_ID_ncbi', how='left' )\n",
    "# Rearnage columns\n",
    "cols = complete_cvs.columns.tolist()\n",
    "cols = cols = cols[-1:] + cols[:-1]\n",
    "complete_cvs = complete_cvs[cols]\n",
    "\n",
    "## 3. Save data\n",
    "#\n",
    "# Save data into new csv\n",
    "complete_cvs.to_csv(f\"{path}/results/networks/{species}_gene_IDs_and_module_identity.csv\", sep=',', index=False)\n",
    "\n",
    "#\n",
    "### Chunck End."
   ]
  },
  {
   "cell_type": "code",
   "execution_count": null,
   "metadata": {},
   "outputs": [],
   "source": []
  }
 ],
 "metadata": {
  "kernelspec": {
   "display_name": "Python 3",
   "language": "python",
   "name": "python3"
  },
  "language_info": {
   "codemirror_mode": {
    "name": "ipython",
    "version": 3
   },
   "file_extension": ".py",
   "mimetype": "text/x-python",
   "name": "python",
   "nbconvert_exporter": "python",
   "pygments_lexer": "ipython3",
   "version": "3.8.3"
  }
 },
 "nbformat": 4,
 "nbformat_minor": 4
}
