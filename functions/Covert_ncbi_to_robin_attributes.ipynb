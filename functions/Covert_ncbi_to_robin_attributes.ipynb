{
 "cells": [
  {
   "cell_type": "markdown",
   "metadata": {},
   "source": [
    "## Covert NCBI gene Id to Robin's gene ID\n",
    "### You feed this script with a list of NCBI gene ID's that you want to convert to Robin's gene ID's\n",
    "\n",
    "Primairly this script is used to convert the NCBI genes ID that were found rythmic during RNA-seg time course data in Ophiocordyceps and Beauveria bassiana. The rythmicity of the genes can be 8h, 12h or 24h. We identified gene clusters with peaking expression at diffent times of the day (i.e. night, day dusk dawn). These gene ID have been same to a file and thos script is used to convert it into python. Therefore the file name is specified and dynamic for day/night and species."
   ]
  },
  {
   "cell_type": "code",
   "execution_count": 76,
   "metadata": {},
   "outputs": [
    {
     "name": "stdout",
     "output_type": "stream",
     "text": [
      "1104\n"
     ]
    }
   ],
   "source": [
    "# import modules\n",
    "import pandas as pd\n",
    "\n",
    "# Read the data in \n",
    "#\n",
    "# specify the species\n",
    "species = 'beau'\n",
    "#\n",
    "# specify rythmicity of genes\n",
    "rhytmicity = '24'\n",
    "#\n",
    "# specify peaking of cluster for file name\n",
    "peaking = ['night']\n",
    "\n",
    "for peak in peaking:\n",
    "    # specify file you want to convert\n",
    "    file_name = f\"../results/peaking_clusters/{peak}_peaking_Ncbi_IDs_{species}_{rhytmicity}h.txt\"\n",
    "\n",
    "    # read to csv were the gene ID's are listed\n",
    "    all_gene_IDs = pd.read_csv(f\"../data/input/{species}/{species}_gene_names_robin_ncbi.csv\")\n",
    "    # read the list with your NCBI gene ID's \n",
    "    ncbi_list = pd.read_csv(file_name, header = None)\n",
    "    ncbi_list.rename(columns={0: 'attributes_ncbi'}, inplace=True)\n",
    "\n",
    "    # Find matching ncbi attributes in DB with given list\n",
    "    matched_attributes = pd.merge(ncbi_list, all_gene_IDs, how='inner', on='attributes_ncbi')\n",
    "    # Get the Robin attributes of matched ID's\n",
    "    robin_list = matched_attributes['attributes_robin'].to_list()\n",
    "    print(len(robin_list))\n",
    "\n",
    "    # Wrire the list with Robin's attributes to a file\n",
    "    with open(f'../results/peaking_clusters/{peak}_peaking_Robin_IDs_{species}_{rhytmicity}h.txt', 'w') as f:\n",
    "        for item in robin_list:\n",
    "            f.write(\"%s\\n\" % item)\n",
    "\n"
   ]
  },
  {
   "cell_type": "code",
   "execution_count": 68,
   "metadata": {},
   "outputs": [
    {
     "data": {
      "text/html": [
       "<div>\n",
       "<style scoped>\n",
       "    .dataframe tbody tr th:only-of-type {\n",
       "        vertical-align: middle;\n",
       "    }\n",
       "\n",
       "    .dataframe tbody tr th {\n",
       "        vertical-align: top;\n",
       "    }\n",
       "\n",
       "    .dataframe thead th {\n",
       "        text-align: right;\n",
       "    }\n",
       "</style>\n",
       "<table border=\"1\" class=\"dataframe\">\n",
       "  <thead>\n",
       "    <tr style=\"text-align: right;\">\n",
       "      <th></th>\n",
       "      <th>attributes_ncbi</th>\n",
       "    </tr>\n",
       "  </thead>\n",
       "  <tbody>\n",
       "    <tr>\n",
       "      <th>0</th>\n",
       "      <td>BBA_00007</td>\n",
       "    </tr>\n",
       "    <tr>\n",
       "      <th>1</th>\n",
       "      <td>BBA_00049</td>\n",
       "    </tr>\n",
       "    <tr>\n",
       "      <th>2</th>\n",
       "      <td>BBA_00091</td>\n",
       "    </tr>\n",
       "    <tr>\n",
       "      <th>3</th>\n",
       "      <td>BBA_00129</td>\n",
       "    </tr>\n",
       "    <tr>\n",
       "      <th>4</th>\n",
       "      <td>BBA_00130</td>\n",
       "    </tr>\n",
       "    <tr>\n",
       "      <th>...</th>\n",
       "      <td>...</td>\n",
       "    </tr>\n",
       "    <tr>\n",
       "      <th>763</th>\n",
       "      <td>BBA_10272</td>\n",
       "    </tr>\n",
       "    <tr>\n",
       "      <th>764</th>\n",
       "      <td>BBA_10290</td>\n",
       "    </tr>\n",
       "    <tr>\n",
       "      <th>765</th>\n",
       "      <td>BBA_10315</td>\n",
       "    </tr>\n",
       "    <tr>\n",
       "      <th>766</th>\n",
       "      <td>BBA_10337</td>\n",
       "    </tr>\n",
       "    <tr>\n",
       "      <th>767</th>\n",
       "      <td>BBA_10338</td>\n",
       "    </tr>\n",
       "  </tbody>\n",
       "</table>\n",
       "<p>768 rows × 1 columns</p>\n",
       "</div>"
      ],
      "text/plain": [
       "    attributes_ncbi\n",
       "0         BBA_00007\n",
       "1         BBA_00049\n",
       "2         BBA_00091\n",
       "3         BBA_00129\n",
       "4         BBA_00130\n",
       "..              ...\n",
       "763       BBA_10272\n",
       "764       BBA_10290\n",
       "765       BBA_10315\n",
       "766       BBA_10337\n",
       "767       BBA_10338\n",
       "\n",
       "[768 rows x 1 columns]"
      ]
     },
     "execution_count": 68,
     "metadata": {},
     "output_type": "execute_result"
    }
   ],
   "source": [
    "ncbi_list"
   ]
  },
  {
   "cell_type": "code",
   "execution_count": null,
   "metadata": {},
   "outputs": [],
   "source": []
  }
 ],
 "metadata": {
  "kernelspec": {
   "display_name": "Python 3",
   "language": "python",
   "name": "python3"
  },
  "language_info": {
   "codemirror_mode": {
    "name": "ipython",
    "version": 3
   },
   "file_extension": ".py",
   "mimetype": "text/x-python",
   "name": "python",
   "nbconvert_exporter": "python",
   "pygments_lexer": "ipython3",
   "version": "3.8.3"
  }
 },
 "nbformat": 4,
 "nbformat_minor": 4
}
