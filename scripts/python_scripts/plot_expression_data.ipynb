{
 "cells": [
  {
   "cell_type": "markdown",
   "metadata": {},
   "source": [
    "# Plotting expression data\n",
    "## of given gene ID's\n",
    "01. This script plot the expression data of defined gene modules from WGCNA\n",
    "The modules are named by colors (e.g. red, blue, ect.). This script allow the input of a colorname and plots the expressin values of all the genes in that module.\n",
    "02. This script plot the expression data of any given list of gene ID's. \n",
    "This script allows the input of gene list (robin IDs or ncbi ID) and will plot the expression value of the given genes."
   ]
  },
  {
   "cell_type": "markdown",
   "metadata": {},
   "source": [
    "### Housekeeping\n",
    "You start with specifing the path to your machine, and the species you want to investigate. These \n",
    "Next you import all the modules used for this script"
   ]
  },
  {
   "cell_type": "code",
   "execution_count": 6,
   "metadata": {},
   "outputs": [],
   "source": [
    "### Housekeeping\n",
    "# \n",
    "# specify path to folder were your data files are, or your database is\n",
    "path = '/Users/roos_brouns/Dropbox/Ant-fungus/02_scripts/Git_Das_folder2/Das_et_al_2022a'\n",
    "#\n",
    "# specify species\n",
    "species = 'ophio_cflo'\n",
    "\n",
    "# load modules\n",
    "import sqlite3 # to connect to database\n",
    "import pandas as pd # data anaylis handeling\n",
    "import numpy as np  # following three are for plotting\n",
    "import matplotlib.pyplot as plt\n",
    "import seaborn as sns\n",
    "import colorsys\n",
    "\n",
    "# Add defenition for color palette making for plotting. \n",
    "# source: source: https://stackoverflow.com/questions/37765197/darken-or-lighten-a-color-in-matplotlib\n",
    "def scale_lightness(rgb, scale_l):\n",
    "    # convert rgb to hls\n",
    "    h, l, s = colorsys.rgb_to_hls(*rgb)\n",
    "    # manipulate h, l, s values and return as rgb\n",
    "    return colorsys.hls_to_rgb(h, min(1, l * scale_l), s = s)"
   ]
  },
  {
   "cell_type": "markdown",
   "metadata": {},
   "source": [
    "### Load in the data\n",
    "The next step is to load in the data. This can be done with connection to a database base in this example or a excel/cvs with the data kan be read in. The database used in this tutorial is can be made with another script <db_making> [REF]."
   ]
  },
  {
   "cell_type": "code",
   "execution_count": 7,
   "metadata": {},
   "outputs": [],
   "source": [
    "### Load in data\n",
    "#\n",
    "# Connect to the database\n",
    "conn = sqlite3.connect(f'{path}/data/databases/new_TC6_fungal_data.db')\n",
    "#\n",
    "# read data from DB into dataframe  \n",
    "exp_val = pd.read_sql_query(f\"SELECT * from {species}_fpkm\", conn)\n",
    "\n",
    "### Clean data\n",
    "#\n",
    "# drop 'start' and 'end' columns\n",
    "exp_val.drop(['start','end'], axis=1, inplace=True)"
   ]
  },
  {
   "cell_type": "markdown",
   "metadata": {},
   "source": [
    "### Part 01. Plotting expression value of modules\n",
    "This next part of code plots the expression values of all the genes in a defined module. These module have been defined with WCGNA and <Billu's tutorial> can be used to do this step [REF]. \n",
    "* This code will ask for an input of color names of the defined module"
   ]
  },
  {
   "cell_type": "code",
   "execution_count": 8,
   "metadata": {},
   "outputs": [
    {
     "name": "stdout",
     "output_type": "stream",
     "text": [
      "Attention: If the code does not work and a error message is given, this means that the colors you gave are not defined as modules\n",
      "Enter elements of a list separated by space green\n",
      "\n",
      "\n",
      "giving input colors ['green']\n"
     ]
    },
    {
     "ename": "NameError",
     "evalue": "name 'matplotlib' is not defined",
     "output_type": "error",
     "traceback": [
      "\u001b[0;31m---------------------------------------------------------------------------\u001b[0m",
      "\u001b[0;31mNameError\u001b[0m                                 Traceback (most recent call last)",
      "\u001b[0;32m<ipython-input-8-d86dd3ac08dc>\u001b[0m in \u001b[0;36m<module>\u001b[0;34m\u001b[0m\n\u001b[1;32m     36\u001b[0m     \u001b[0;31m#\u001b[0m\u001b[0;34m\u001b[0m\u001b[0;34m\u001b[0m\u001b[0;34m\u001b[0m\u001b[0m\n\u001b[1;32m     37\u001b[0m     \u001b[0;31m# Make the color palette for plotting\u001b[0m\u001b[0;34m\u001b[0m\u001b[0;34m\u001b[0m\u001b[0;34m\u001b[0m\u001b[0m\n\u001b[0;32m---> 38\u001b[0;31m     \u001b[0mcolor\u001b[0m \u001b[0;34m=\u001b[0m \u001b[0mmatplotlib\u001b[0m\u001b[0;34m.\u001b[0m\u001b[0mcolors\u001b[0m\u001b[0;34m.\u001b[0m\u001b[0mColorConverter\u001b[0m\u001b[0;34m.\u001b[0m\u001b[0mto_rgb\u001b[0m\u001b[0;34m(\u001b[0m\u001b[0mmodule_name\u001b[0m\u001b[0;34m)\u001b[0m\u001b[0;34m\u001b[0m\u001b[0;34m\u001b[0m\u001b[0m\n\u001b[0m\u001b[1;32m     39\u001b[0m     \u001b[0mrgbs\u001b[0m \u001b[0;34m=\u001b[0m \u001b[0;34m[\u001b[0m\u001b[0mscale_lightness\u001b[0m\u001b[0;34m(\u001b[0m\u001b[0mcolor\u001b[0m\u001b[0;34m,\u001b[0m \u001b[0mscale\u001b[0m\u001b[0;34m)\u001b[0m \u001b[0;32mfor\u001b[0m \u001b[0mscale\u001b[0m \u001b[0;32min\u001b[0m \u001b[0;34m[\u001b[0m\u001b[0;36m0.3\u001b[0m\u001b[0;34m,\u001b[0m \u001b[0;36m.6\u001b[0m\u001b[0;34m,\u001b[0m \u001b[0;36m1\u001b[0m\u001b[0;34m,\u001b[0m \u001b[0;36m1.1\u001b[0m\u001b[0;34m,\u001b[0m \u001b[0;36m1.25\u001b[0m\u001b[0;34m]\u001b[0m\u001b[0;34m]\u001b[0m\u001b[0;34m\u001b[0m\u001b[0;34m\u001b[0m\u001b[0m\n\u001b[1;32m     40\u001b[0m     \u001b[0;31m# Show the palette color\u001b[0m\u001b[0;34m\u001b[0m\u001b[0;34m\u001b[0m\u001b[0;34m\u001b[0m\u001b[0m\n",
      "\u001b[0;31mNameError\u001b[0m: name 'matplotlib' is not defined"
     ]
    }
   ],
   "source": [
    "### Part 01. Plot expressioin value of modules\n",
    "#\n",
    "# A. Get the data you want to plot\n",
    "#\n",
    "# Load in the data with the gene ID's and their assigned module\n",
    "all_modules = pd.read_csv(f'{path}/results/networks/{species}_gene_IDs_and_module_identity.csv')\n",
    "# Clean the data by dropping exsessive columns\n",
    "all_modules.drop(['start', 'end'], axis=1, inplace=True)\n",
    "#\n",
    "#\n",
    "# Input the colors of the modules you want to plot\n",
    "# source : https://pynative.com/python-accept-list-input-from-user/\n",
    "print(\"Attention: If the code does not work and a error message is given, this means that the colors you gave are not defined as modules\")\n",
    "input_string = input('Enter elements of a list separated by space ')\n",
    "print(\"\\n\")\n",
    "module_list = input_string.split()\n",
    "# print list\n",
    "print('giving input colors', module_list)\n",
    "\n",
    "if len(module_list) == 1:\n",
    "    # Define the module you want to plot\n",
    "    module_name = module_list[0]\n",
    "    # select all the data of that module\n",
    "    module_data = all_modules.loc[all_modules['module_identity'] == module_name]\n",
    "    # select the gene ID's in of the module\n",
    "    module_IDs = pd.DataFrame(module_data['gene_ID_robin'])\n",
    "    # get the expression values of the selected gene ID's in the module\n",
    "    exp_val_module = module_IDs.merge(exp_val, on='gene_ID_robin', how='left')\n",
    "    #\n",
    "\n",
    "    # B. Plot the data\n",
    "    # \n",
    "    # Transform the data so we can plot\n",
    "    t_exp_val_module = exp_val_module.T\n",
    "    t_exp_val_module.drop(['gene_ID_robin','gene_ID_ncbi'], axis=0, inplace=True)\n",
    "    #\n",
    "    # Make the color palette for plotting\n",
    "    color = matplotlib.colors.ColorConverter.to_rgb(module_name)\n",
    "    rgbs = [scale_lightness(color, scale) for scale in [0.3, .6, 1, 1.1, 1.25]]\n",
    "    # Show the palette color\n",
    "    # sns.palplot(rgbs) \n",
    "    #\n",
    "    # Set background and the color palette\n",
    "    sns.set_theme()\n",
    "    sns.set_palette(rgbs)\n",
    "    # Plot the gene expression values against the time, without legend and with titles\n",
    "    ax = t_exp_val_module.plot(legend=False)\n",
    "    ax.set_title(species[0].upper()+f'{species[1:len(species)]}-{module_name} gene expression', fontsize=15, fontweight='bold')\n",
    "    ax.set_xlabel('Time point')\n",
    "    ax.set_ylabel('Expression value (FPKM)')\n",
    "    #\n",
    "    ### Done.\n",
    "\n",
    "elif len(module_list) > 1:\n",
    "    \n",
    "    for color in module_list:\n",
    "\n",
    "        # Define the module you want to plot\n",
    "        module_name = color\n",
    "        # select all the data of that module\n",
    "        module_data = all_modules.loc[all_modules['module_identity'] == module_name]\n",
    "        # select the gene ID's in of the module\n",
    "        module_IDs = pd.DataFrame(module_data['gene_ID_robin'])\n",
    "        # get the expression values of the selected gene ID's in the module\n",
    "        exp_val_module = module_IDs.merge(exp_val, on='gene_ID_robin', how='left')\n",
    "        #\n",
    "\n",
    "        # B. Plot the data\n",
    "        # \n",
    "        # Transform the data so we can plot\n",
    "        t_exp_val_module = exp_val_module.T\n",
    "        t_exp_val_module.drop(['gene_ID_robin','gene_ID_ncbi'], axis=0, inplace=True)\n",
    "        #\n",
    "        # Make the color palette for plotting\n",
    "        color = matplotlib.colors.ColorConverter.to_rgb(module_name)\n",
    "        rgbs = [scale_lightness(color, scale) for scale in [0.3, .6, 1, 1.1, 1.25]]\n",
    "        # Show the palette color\n",
    "        # sns.palplot(rgbs)\n",
    "        #\n",
    "        # set background and the color palette\n",
    "        sns.set_theme()\n",
    "        sns.set_palette(rgbs)\n",
    "        #\n",
    "        # Plot the gene expression values against the time, without legend and with titles\n",
    "        ax = t_exp_val_module.plot(legend=False)\n",
    "        ax.set_title(species[0].upper()+f'{species[1:len(species)]}-{module_name} gene expression', fontsize=15, fontweight='bold')\n",
    "        ax.set_xlabel('Time point')\n",
    "        ax.set_ylabel('Expression value (FPKM)')\n",
    "        #\n",
    "        ### Done.\n",
    "\n",
    "else:\n",
    "    print('No input is given')"
   ]
  },
  {
   "cell_type": "code",
   "execution_count": null,
   "metadata": {},
   "outputs": [],
   "source": [
    "# ### X-axis try outs\n",
    "# label = t_exp_val_module.index\n",
    "# ndx = t_exp_val_module.index\n",
    "# time_points = 2+np.arange(len(t_exp_val_module))*2\n",
    "\n",
    "# exp_val_module\n",
    "# sns.set_palette('Greens')\n",
    "# t_exp_val_module.plot(legend=False)\n",
    "# #plt.xticks(time_points)\n",
    "# #plt.xticks(time_points, ndx)"
   ]
  },
  {
   "cell_type": "code",
   "execution_count": null,
   "metadata": {},
   "outputs": [],
   "source": []
  }
 ],
 "metadata": {
  "kernelspec": {
   "display_name": "Python 3",
   "language": "python",
   "name": "python3"
  },
  "language_info": {
   "codemirror_mode": {
    "name": "ipython",
    "version": 3
   },
   "file_extension": ".py",
   "mimetype": "text/x-python",
   "name": "python",
   "nbconvert_exporter": "python",
   "pygments_lexer": "ipython3",
   "version": "3.8.3"
  }
 },
 "nbformat": 4,
 "nbformat_minor": 4
}
