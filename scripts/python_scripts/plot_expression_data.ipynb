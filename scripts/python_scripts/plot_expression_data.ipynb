{
 "cells": [
  {
   "cell_type": "markdown",
   "metadata": {},
   "source": [
    "# Plotting expression data\n",
    "## of given gene ID's\n",
    "01. This script plot the expression data of defined gene modules from WGCNA\n",
    "The modules are named by colors (e.g. red, blue, ect.). This script allow the input of a colorname and plots the expressin values of all the genes in that module.\n",
    "02. This script plot the expression data of any given list of gene ID's. \n",
    "This script allows the input of gene list (robin IDs or ncbi ID) and will plot the expression value of the given genes."
   ]
  },
  {
   "cell_type": "markdown",
   "metadata": {},
   "source": [
    "## Instalation\n",
    "This script uses seaborn 0.11, which has to be installed on your computer. The older version 0.10 is not compatible with this script. You can install seaborn with the following code. Then you check which version you just or already have installed, and upgrade if nessecary. If you need to upgrade, you will have to restart your device or source it in the command line."
   ]
  },
  {
   "cell_type": "code",
   "execution_count": null,
   "metadata": {},
   "outputs": [],
   "source": [
    "# install seaborn\n",
    "conda install seaborn\n",
    "# check if the installed version is 0.11.2\n",
    "sns.__version__\n",
    "# update if nessecary\n",
    "!pip install seaborn --upgrade"
   ]
  },
  {
   "cell_type": "markdown",
   "metadata": {},
   "source": [
    "### Housekeeping\n",
    "You start with specifing the path to your machine, and the species you want to investigate. These \n",
    "Next you import all the modules used for this script"
   ]
  },
  {
   "cell_type": "code",
   "execution_count": 4,
   "metadata": {},
   "outputs": [],
   "source": [
    "### Housekeeping\n",
    "# \n",
    "# load modules\n",
    "import sqlite3 # to connect to database\n",
    "import pandas as pd # data anaylis handeling\n",
    "import numpy as np  \n",
    "import matplotlib.pyplot as plt #plotting\n",
    "import seaborn as sns # plotting\n",
    "import colorsys # color palette\n",
    "import matplotlib # plotting\n",
    "import scipy.stats as stats # z-score transformation\n",
    "from matplotlib.backends.backend_pdf import PdfPages # Saving as pdf\n",
    "#\n",
    "# specify path to folder were your data files are, or your database is\n",
    "path = '/Users/roos_brouns/Dropbox/Ant-fungus/02_scripts/Git_Das_folder2/Das_et_al_2022a'\n",
    "\n",
    "\n",
    "### Ad definitions\n",
    "#\n",
    "# Add defenition for color palette making for plotting. \n",
    "# source: https://stackoverflow.com/questions/37765197/darken-or-lighten-a-color-in-matplotlib\n",
    "def scale_lightness(rgb, scale_l):\n",
    "    # convert rgb to hls\n",
    "    h, l, s = colorsys.rgb_to_hls(*rgb)\n",
    "    # manipulate h, l, s values and return as rgb\n",
    "    return colorsys.hls_to_rgb(h, min(1, l * scale_l), s = s)\n",
    "\n",
    "# Add defenition for background shading\n",
    "# source: https://stackoverflow.com/questions/54652114/matplotlib-how-can-i-add-an-alternating-background-color-when-i-have-dates-on-t\n",
    "class GridShader():\n",
    "    def __init__(self, ax, first=True, **kwargs):\n",
    "        self.spans = []\n",
    "        self.sf = first\n",
    "        self.ax = ax\n",
    "        self.kw = kwargs\n",
    "        self.ax.autoscale(False, axis=\"x\")\n",
    "        self.cid = self.ax.callbacks.connect('xlim_changed', self.shade)\n",
    "        self.shade()\n",
    "    def clear(self):\n",
    "        for span in self.spans:\n",
    "            try:\n",
    "                span.remove()\n",
    "            except:\n",
    "                pass\n",
    "    def shade(self, evt=None):\n",
    "        self.clear()\n",
    "        xticks = self.ax.get_xticks()\n",
    "        xlim = self.ax.get_xlim()\n",
    "        xticks = xticks[(xticks > xlim[0]) & (xticks < xlim[-1])]\n",
    "        locs = np.concatenate(([[xlim[0]], xticks, [xlim[-1]]]))\n",
    "        \n",
    "        # Original from source, makes alternating shadow grids \n",
    "#         start = locs[1-int(self.sf)::2]  \n",
    "#         end = locs[2-int(self.sf)::2]\n",
    "#         for s, e in zip(start, end):\n",
    "#             self.spans.append(self.ax.axvspan(s, e, zorder=0, **self.kw))\n",
    "       \n",
    "        # Altered for own pupose\n",
    "        #\n",
    "        # start shading for Day from 1st\n",
    "        start_D = locs[0:5]\n",
    "        # end shading at 6th grid\n",
    "        end_D = locs[6:7]\n",
    "        #\n",
    "        # Give the grids a gold color for the Day\n",
    "        for s, e in zip(start_D, end_D):\n",
    "            self.spans.append(self.ax.axvspan(s, e, zorder=0, facecolor='gold', **self.kw))\n",
    "        #\n",
    "        # Start night shading at 7th grid\n",
    "        start_N = locs[6:13]\n",
    "        # end shading at 14th grid\n",
    "        end_N = locs[13:15]\n",
    "        #\n",
    "        # Give the grids a navy color for the Night\n",
    "        for s, e in zip(start_N, end_N):\n",
    "            self.spans.append(self.ax.axvspan(s, e, zorder=0, facecolor='navy', **self.kw))\n",
    "                \n",
    "            "
   ]
  },
  {
   "cell_type": "markdown",
   "metadata": {},
   "source": [
    "### Load in the data\n",
    "The next step is to load in the data. This can be done with connection to a database base in this example or a excel/cvs with the data kan be read in. The database used in this tutorial is can be made with another script <db_making> [REF]."
   ]
  },
  {
   "cell_type": "code",
   "execution_count": 5,
   "metadata": {},
   "outputs": [],
   "source": [
    "# specify species\n",
    "#\n",
    "# for Ophiocordyceps camponoti-florani\n",
    "# species = 'ophio_cflo'\n",
    "# for Beauveria bassiana\n",
    "species = 'beau'"
   ]
  },
  {
   "cell_type": "code",
   "execution_count": 6,
   "metadata": {},
   "outputs": [],
   "source": [
    "### Load in data via Database\n",
    "# \n",
    "# * exp_val must contain expression values per time-point per gene ID\n",
    "# * data must contain all other info about the genes, e.g. all gene ID's, module identities, gammaP values ect.\n",
    "#\n",
    "# Connect to the database\n",
    "conn = sqlite3.connect(f'{path}/data/databases/new_TC6_fungal_data.db')\n",
    "#\n",
    "# read data from DB into dataframe  \n",
    "exp_val = pd.read_sql_query(f\"SELECT * from {species}_fpkm\", conn)\n",
    "\n",
    "### Clean data\n",
    "#\n",
    "# drop 'start' and 'end' columns\n",
    "exp_val.drop(['start','end'], axis=1, inplace=True)\n",
    "\n",
    "### Load in Data via csv\n",
    "#\n",
    "# Load in the whole csv\n",
    "data = pd.read_csv(f'{path}/data/{species}_TC6_data.csv')\n",
    "# select the expression values\n",
    "exp_val = data.drop(data.columns[14:len(data.columns)], axis=1)"
   ]
  },
  {
   "cell_type": "markdown",
   "metadata": {},
   "source": [
    "### Part 01. Plotting expression value of modules\n",
    "This next part of code plots the expression values of all the genes in a defined module. These module have been defined with WCGNA and <Billu's tutorial> can be used to do this step [REF]. \n",
    "* This code will ask for an input of color names of the defined module"
   ]
  },
  {
   "cell_type": "code",
   "execution_count": 75,
   "metadata": {},
   "outputs": [],
   "source": [
    "### Preset input for modules ######\n",
    "#\n",
    "# plot  modules (M)\n",
    "module_goal = 'M'\n",
    "\n",
    "# Clusters for ophio and beau that have rhythmic genes in it\n",
    "#\n",
    "# ophio\n",
    "input_string = 'tan midnightblue darkturquoise'\n",
    "# beauveria\n",
    "#input_string = 'red darkred salmon'\n",
    "\n",
    "module_list = input_string.split()"
   ]
  },
  {
   "cell_type": "code",
   "execution_count": 26,
   "metadata": {},
   "outputs": [],
   "source": [
    "### Preset input for list of genes ######\n",
    "#\n",
    "# plot  genes (G)\n",
    "module_goal = 'G'\n",
    "#\n",
    "# N crassa orthologs in Ophio_cflo\n",
    "# module_list= ['Ophcf2|06690','Ophcf2|01775','Ophcf2|02346','Ophcf2|01187','Ophcf2|05709','Ophcf2|02284','Ophcf2|03331','Ophcf2|01137']\n",
    "# for Beauveria \n",
    "module_list = ['BBA_01528', 'BBA_10271', 'BBA_01403', 'BBA_02876', 'BBA_08737', 'BBA_00328', 'BBA_07925', 'BBA_02816']\n",
    "ortho_names = ['frq','wc-1','wc-2','vvd','nik-2','dcc-1','luxQ','phy-1']"
   ]
  },
  {
   "cell_type": "code",
   "execution_count": 10,
   "metadata": {},
   "outputs": [],
   "source": [
    "### Frequency genes in beauveria\n",
    "#\n",
    "# plot  genes (G)\n",
    "module_goal = 'G'\n",
    "#\n",
    "module_list = ['BBA_01528', 'BBA_08957', 'BBA_02496']\n",
    "ortho_names = ['frq1','frq2','frh']"
   ]
  },
  {
   "cell_type": "code",
   "execution_count": 79,
   "metadata": {},
   "outputs": [
    {
     "name": "stdout",
     "output_type": "stream",
     "text": [
      "Plot gene or module expression? Type in gene/G or module/M: G\n",
      "Enter elements of a list separated by space: -\n",
      "\n",
      "\n",
      "given input:  ['-']\n"
     ]
    }
   ],
   "source": [
    "##### Interactive input block ###########\n",
    "#\n",
    "# Ask input for module or genes\n",
    "module_goal = input('Plot gene or module expression? Type in gene/G or module/M: ')\n",
    "# give space separeted list of module colors or gene ID's\n",
    "input_string = input('Enter elements of a list separated by space: ')\n",
    "\n",
    "print(\"\\n\")\n",
    "module_list = input_string.split()\n",
    "# print list\n",
    "print('given input: ', module_list)"
   ]
  },
  {
   "cell_type": "code",
   "execution_count": 11,
   "metadata": {},
   "outputs": [],
   "source": [
    "### Set if you look want to search by Robin gene ID's or NCBI gene ID's\n",
    "gene_ID = 'gene_ID_ncbi' \n",
    "# gene_ID = 'gene_ID_robin'"
   ]
  },
  {
   "cell_type": "code",
   "execution_count": 12,
   "metadata": {},
   "outputs": [
    {
     "name": "stderr",
     "output_type": "stream",
     "text": [
      "<ipython-input-12-1d9c7f444bcc>:36: RuntimeWarning: divide by zero encountered in log2\n",
      "  tl_exp_val_module = np.log2(t_exp_val_module_float)\n",
      "/Users/roos_brouns/opt/anaconda3/lib/python3.8/site-packages/scipy/stats/stats.py:2500: RuntimeWarning: invalid value encountered in true_divide\n",
      "  return (a - mns) / sstd\n"
     ]
    },
    {
     "data": {
      "image/png": "[encoded data removed]",
      "text/plain": [
       "<Figure size 432x288 with 1 Axes>"
      ]
     },
     "metadata": {},
     "output_type": "display_data"
    },
    {
     "data": {
      "image/png": "[encoded data removed]",
      "text/plain": [
       "<Figure size 432x288 with 1 Axes>"
      ]
     },
     "metadata": {},
     "output_type": "display_data"
    },
    {
     "data": {
      "image/png": "[encoded data removed]",
      "text/plain": [
       "<Figure size 432x288 with 1 Axes>"
      ]
     },
     "metadata": {},
     "output_type": "display_data"
    }
   ],
   "source": [
    "### Part 01. Plot expressioin value of modules\n",
    "#\n",
    "# A1. Get the data you want to plot\n",
    "## --- moved to data load ----\n",
    "\n",
    "try:\n",
    "    \n",
    "    for i in range(0,len(module_list)):\n",
    "        \n",
    "        # A2. Data selection for module or gene_ID\n",
    "        #\n",
    "        # Define the module you want to plot\n",
    "        module_name = module_list[i]\n",
    "        # select all the data of that module\n",
    "        if module_goal == 'G' or module_goal == 'gene':\n",
    "            module_data = data.loc[data[gene_ID] == module_name]\n",
    "        elif module_goal == 'M' or module_goal == 'module': \n",
    "            module_data = data.loc[data['module_identity'] == module_name]\n",
    "        else:\n",
    "            print('specify G or M')\n",
    "        # select the gene ID's in of the module\n",
    "        module_IDs = pd.DataFrame(module_data[gene_ID])\n",
    "        # get the expression values of the selected gene ID's in the module\n",
    "        exp_val_module = module_IDs.merge(exp_val, on=gene_ID, how='left')\n",
    "        \n",
    "\n",
    "        # B. Data transformation\n",
    "        #\n",
    "        # Transform the dataframe so we can plot\n",
    "        t_exp_val_module = exp_val_module.T\n",
    "        t_exp_val_module.drop(['gene_ID_robin','gene_ID_ncbi'], axis=0, inplace=True)\n",
    "        # \n",
    "        # Covert integer type of DF to float, which is nessacary to use transformation functions\n",
    "        t_exp_val_module_float = t_exp_val_module.astype(float)\n",
    "        # Log2 transformation\n",
    "        tl_exp_val_module = np.log2(t_exp_val_module_float)\n",
    "        # Z-score transformation\n",
    "        tz_exp_val_module = t_exp_val_module_float.apply(stats.zscore)\n",
    "\n",
    "        if module_goal == 'M' or module_goal == 'module':\n",
    "            # C. Plotting colors aesthetics\n",
    "            #\n",
    "            # Make the color palette for plotting\n",
    "            color = matplotlib.colors.ColorConverter.to_rgb(module_name)\n",
    "            rgbs = [scale_lightness(color, scale) for scale in [0.3, .6, 1, 1.1, 1.25]]\n",
    "            # Show the palette color\n",
    "            # sns.palplot(rgbs)\n",
    "            #\n",
    "            # set background and the color palette\n",
    "            sns.set_theme()\n",
    "            sns.set_palette(rgbs)\n",
    "        \n",
    "            # D. Calcuate median of per time point of all gene expression values\n",
    "            # \n",
    "            # for FPMK\n",
    "            median_df_t = t_exp_val_module.median(axis=1)\n",
    "            # for Log2 values\n",
    "            median_df_tl = tl_exp_val_module.median(axis=1)\n",
    "            # for z-scores\n",
    "            median_df_tz = tz_exp_val_module.median(axis=1)\n",
    "        else: \n",
    "            sns.set_theme()\n",
    "        \n",
    "        if module_goal == 'M' or module_goal == 'module':\n",
    "            # E. Plotting the gene expression values against the time with median, without legend and with titles \n",
    "            #\n",
    "            # Plot for FPKM\n",
    "            ax1 = t_exp_val_module.plot(legend=False)\n",
    "            median_df_t.plot(ax=ax1, color='red') # plot the median in black\n",
    "            ax1.set_title(species[0].upper()+f'{species[1:len(species)]}-{module_name} gene expression', fontsize=15, fontweight='bold')\n",
    "            ax1.set_xlabel('Time point')\n",
    "            ax1.set_ylabel('Expression value (FPKM)')\n",
    "            fig1 = ax1.get_figure()\n",
    "            #\n",
    "            # Plot for log2 values\n",
    "            ax2 = tl_exp_val_module.plot(legend=False) # no legend\n",
    "            median_df_tl.plot(ax=ax2, color='red') # plot the median in black\n",
    "            ax2.set_title(species[0].upper()+f'{species[1:len(species)]}-{module_name} gene expression', fontsize=15, fontweight='bold') # plot title\n",
    "            ax2.set_xlabel('Time point') # make xlabel\n",
    "            ax2.set_ylabel('Expression value (Log2)') # make ylabel\n",
    "            fig2 = ax2.get_figure()\n",
    "            #\n",
    "            # Plot for z-scores\n",
    "            ax3 = tz_exp_val_module.plot(legend=False, color = 'red')\n",
    "            median_df_tz.plot(ax=ax3, color='black') # plot the median in black\n",
    "            # put ZT labels in variable\n",
    "            ndx = t_exp_val_module.index\n",
    "            # put all labels on x-axis with a rotation\n",
    "            plt.xticks(range(len(ndx)), ndx, rotation=45)\n",
    "            # Set title\n",
    "            ax3.set_title(species[0].upper()+f'{species[1:len(species)]}-{module_name} gene expression', fontsize=15, fontweight='bold')\n",
    "            # Set xlabel\n",
    "            ax3.set_xlabel('Time point')\n",
    "            # Set ylabel\n",
    "            ax3.set_ylabel('Expression value (Z-scores)')\n",
    "            # Shade the grids\n",
    "            gs = GridShader(ax3, first=False, alpha=0.5)\n",
    "            # Save ax in figure object\n",
    "            fig3 = ax3.get_figure()\n",
    "\n",
    "    #         # F. Save plot to pdf file\n",
    "    #         # \n",
    "    #         # Path to where the pfd's are saved\n",
    "    #         pp = PdfPages(f'{path}/results/figures/module_expression_plots/{species}_{module_name}_plot.pdf')\n",
    "    #         #\n",
    "    #         # Save the figures to the pfd\n",
    "    #         pp.savefig(fig1)\n",
    "    #         pp.savefig(fig2)\n",
    "    #         pp.savefig(fig3)\n",
    "    #         #\n",
    "    #         pp.close()\n",
    "            #\n",
    "            ### Done.\n",
    "        else:\n",
    "            # Plot for FPKM or Z-scores (=tz_exp_val_module) of Log2Value (=tl_exp_val_module)\n",
    "            ax = tz_exp_val_module.plot(legend=False, color = 'black')\n",
    "            # put ZT labels in variable\n",
    "            ndx = t_exp_val_module.index\n",
    "            # put all labels on x-axis with a rotation\n",
    "            plt.xticks(range(len(ndx)), ndx, rotation=45)\n",
    "            \n",
    "            # Ad gamma-P value in text box \n",
    "            #\n",
    "            # Get the gammaP value \n",
    "            module_data.reset_index(inplace=True, drop=True)\n",
    "            gamma_p = module_data.loc[0,'GammaP_24h'].round(3)\n",
    "            # Ad text box\n",
    "            # source: https://matplotlib.org/3.3.4/gallery/recipes/placing_text_boxes.html\n",
    "            textstr= f'GammaP_24h = {gamma_p}'\n",
    "            props = dict(boxstyle='round', facecolor='white', alpha=0.5)\n",
    "            ax.text(0.05, 0.95, textstr, transform=ax.transAxes, fontsize=10, verticalalignment='top', bbox=props)\n",
    "            \n",
    "            # Set title\n",
    "            ax.set_title(f'{module_name} ' + f'({ortho_names[i]})' + ' gene expression', fontsize=15, fontweight='bold')\n",
    "            # Set xlabel\n",
    "            ax.set_xlabel('Time point')\n",
    "            # Set ylabel\n",
    "            ax.set_ylabel('Expression value (Z-scores)')\n",
    "            # Shade the grids\n",
    "            gs = GridShader(ax, first=False, alpha=0.5)\n",
    "            # Save ax in figure object\n",
    "            fig = ax.get_figure()\n",
    "            \n",
    "            ### F. Save plot to pdf file\n",
    "            # \n",
    "            # Path to where the pfd's are saved\n",
    "            pp = PdfPages(f'{path}/results/figures/orthologs_expression_plots/{species}_{module_name}_plot.pdf')\n",
    "            #\n",
    "            # Save the figures to the pfd\n",
    "            pp.savefig(fig)\n",
    "\n",
    "except Exception as e:\n",
    "    print('Wrong input was given: No color module was defined or the given color does not exist as module.')\n",
    "    print(f'error message: {e}')"
   ]
  },
  {
   "cell_type": "code",
   "execution_count": 95,
   "metadata": {},
   "outputs": [],
   "source": [
    "# source\n",
    "# https://community.esri.com/t5/python-documents/creating-multiple-graphs-per-page-using-matplotlib/tac-p/1110962#M543\n",
    "\n",
    "import matplotlib.backends.backend_pdf\n",
    "import matplotlib.pyplot as pltimport \n",
    "\n",
    "def chunks(l, n):\n",
    "    for i in range(0, len(l), n):        \n",
    "        yield l[i:i + n]\n",
    "        # settings\n",
    "        out_pdf = f'{path}/test.pdf'\n",
    "        # some random data\n",
    "        data = []\n",
    "        for i in range(0, 5000):    \n",
    "            data.append([i, float(i + random.randrange(-50, 50))/100, 5])\n",
    "            pdf = matplotlib.backends.backend_pdf.PdfPages(out_pdf)\n",
    "            cnt = 0\n",
    "            figs = plt.figure()\n",
    "        for data_chunk in chunks(data, 600):    \n",
    "            plot_num = 321    \n",
    "            fig = plt.figure(figsize=(10, 10)) # inches    \n",
    "            for sub_chunk in chunks(data_chunk, 100):        \n",
    "                cnt += 1        \n",
    "                d = [a[0] for a in sub_chunk]        \n",
    "                z = [a[1] for a in sub_chunk]        \n",
    "                zv = [a[2] for a in sub_chunk]        \n",
    "                print(plot_num)      \n",
    "                plt.subplot(plot_num)        \n",
    "                # plot profile, define styles        \n",
    "                plt.plot(d,z,'r',linewidth=0.75)        \n",
    "                plt.plot(d,z,'ro',alpha=0.3, markersize=3)        \n",
    "                plt.plot(d,zv,'k--',linewidth=0.5)        \n",
    "                plt.xlabel('Distance from start')        \n",
    "                plt.ylabel('Elevation')        \n",
    "                plt.title('Profile {0} using Python matplotlib'.format(cnt))        \n",
    "                # change font size        \n",
    "                plt.rcParams.update({'font.size': 8})        \n",
    "                plot_num += 1    \n",
    "                pdf.savefig(fig)\n",
    "                pdf.close()"
   ]
  },
  {
   "cell_type": "code",
   "execution_count": 74,
   "metadata": {},
   "outputs": [
    {
     "data": {
      "text/plain": [
       "<generator object chunks at 0x7fea52e57a50>"
      ]
     },
     "execution_count": 74,
     "metadata": {},
     "output_type": "execute_result"
    }
   ],
   "source": [
    "chunks(3,4)"
   ]
  },
  {
   "cell_type": "code",
   "execution_count": 100,
   "metadata": {},
   "outputs": [],
   "source": [
    "textstr = '\\n'.join((\n",
    "    r'$\\mathrm{median}=%.2f$' % (2, ),\n",
    "    r'$\\hoi=%.2f$' % (3, )))"
   ]
  },
  {
   "cell_type": "code",
   "execution_count": null,
   "metadata": {},
   "outputs": [],
   "source": []
  }
 ],
 "metadata": {
  "kernelspec": {
   "display_name": "Python 3",
   "language": "python",
   "name": "python3"
  },
  "language_info": {
   "codemirror_mode": {
    "name": "ipython",
    "version": 3
   },
   "file_extension": ".py",
   "mimetype": "text/x-python",
   "name": "python",
   "nbconvert_exporter": "python",
   "pygments_lexer": "ipython3",
   "version": "3.8.3"
  }
 },
 "nbformat": 4,
 "nbformat_minor": 4
}
